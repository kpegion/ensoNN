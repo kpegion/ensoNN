{
 "cells": [
  {
   "cell_type": "code",
   "execution_count": 1,
   "metadata": {},
   "outputs": [],
   "source": [
    "import xarray as xr\n",
    "import matplotlib.pyplot as plt\n",
    "import numpy as np"
   ]
  },
  {
   "cell_type": "markdown",
   "metadata": {},
   "source": [
    "### Suppress most warnings for now"
   ]
  },
  {
   "cell_type": "code",
   "execution_count": 2,
   "metadata": {},
   "outputs": [],
   "source": [
    "import warnings\n",
    "warnings.filterwarnings(\"ignore\")"
   ]
  },
  {
   "cell_type": "markdown",
   "metadata": {},
   "source": [
    "### Get SST Data"
   ]
  },
  {
   "cell_type": "code",
   "execution_count": 3,
   "metadata": {},
   "outputs": [],
   "source": [
    "fTEMP = 'http://apdrc.soest.hawaii.edu:80/dods/public_data/Reanalysis_Data/ORAS5/1x1_grid/votemper/opa0_ext'\n",
    "dTEMP = xr.open_dataset(fTEMP,decode_times=True)"
   ]
  },
  {
   "cell_type": "markdown",
   "metadata": {},
   "source": [
    "### Make anomalies and Nino3.4"
   ]
  },
  {
   "cell_type": "code",
   "execution_count": 4,
   "metadata": {},
   "outputs": [],
   "source": [
    "nino_total = dTEMP.votemper[:,0,:,:].sel(lat=slice(-5,5),\n",
    "                                       lon=slice(210,260)).mean(dim='lat').mean(dim='lon')\n",
    "\n",
    "nino_climo = nino_total.groupby('time.month').mean(dim='time')\n",
    "nino_anom = nino_total.groupby('time.month') - nino_climo\n",
    "\n",
    "sst = dTEMP.votemper[:,0,:,:]\n",
    "sst_climo = sst.groupby('time.month').mean(dim='time')\n",
    "sst_anom = sst.groupby('time.month') - sst_climo\n",
    "\n",
    "X = sst_anom[0:600,:,:]"
   ]
  },
  {
   "cell_type": "markdown",
   "metadata": {},
   "source": [
    "### Turn into categorization problem with 1's and 0's for warm and cold events"
   ]
  },
  {
   "cell_type": "code",
   "execution_count": 5,
   "metadata": {},
   "outputs": [],
   "source": [
    "yy = nino_anom[0:600]\n",
    "l_warm = ( yy > 0.5 )\n",
    "l_cold = ( yy < 0.5 )\n",
    "y = [1*l_warm,1*l_cold]\n",
    "zz = np.transpose(np.asarray(y))"
   ]
  },
  {
   "cell_type": "markdown",
   "metadata": {},
   "source": [
    "### Make a keras model"
   ]
  },
  {
   "cell_type": "code",
   "execution_count": 6,
   "metadata": {},
   "outputs": [
    {
     "name": "stderr",
     "output_type": "stream",
     "text": [
      "Using TensorFlow backend.\n"
     ]
    }
   ],
   "source": [
    "from keras.models import Sequential\n",
    "from keras.layers import Dense\n",
    "from keras import regularizers\n",
    "from keras import initializers"
   ]
  },
  {
   "cell_type": "code",
   "execution_count": 7,
   "metadata": {},
   "outputs": [
    {
     "name": "stdout",
     "output_type": "stream",
     "text": [
      "WARNING:tensorflow:From /homes/kpegion/.conda/envs/ensonn/lib/python3.6/site-packages/keras/backend/tensorflow_backend.py:74: The name tf.get_default_graph is deprecated. Please use tf.compat.v1.get_default_graph instead.\n",
      "\n",
      "WARNING:tensorflow:From /homes/kpegion/.conda/envs/ensonn/lib/python3.6/site-packages/keras/backend/tensorflow_backend.py:517: The name tf.placeholder is deprecated. Please use tf.compat.v1.placeholder instead.\n",
      "\n",
      "WARNING:tensorflow:From /homes/kpegion/.conda/envs/ensonn/lib/python3.6/site-packages/keras/backend/tensorflow_backend.py:4138: The name tf.random_uniform is deprecated. Please use tf.random.uniform instead.\n",
      "\n",
      "WARNING:tensorflow:From /homes/kpegion/.conda/envs/ensonn/lib/python3.6/site-packages/keras/optimizers.py:790: The name tf.train.Optimizer is deprecated. Please use tf.compat.v1.train.Optimizer instead.\n",
      "\n",
      "WARNING:tensorflow:From /homes/kpegion/.conda/envs/ensonn/lib/python3.6/site-packages/keras/backend/tensorflow_backend.py:3376: The name tf.log is deprecated. Please use tf.math.log instead.\n",
      "\n",
      "WARNING:tensorflow:From /homes/kpegion/.conda/envs/ensonn/lib/python3.6/site-packages/tensorflow/python/ops/nn_impl.py:180: add_dispatch_support.<locals>.wrapper (from tensorflow.python.ops.array_ops) is deprecated and will be removed in a future version.\n",
      "Instructions for updating:\n",
      "Use tf.where in 2.0, which has the same broadcast rule as np.where\n"
     ]
    }
   ],
   "source": [
    "inputdim = 180*360\n",
    "model = Sequential()\n",
    "initializers.RandomUniform() \n",
    "\n",
    "model.add(Dense(8, input_dim=inputdim,activation='relu'))\n",
    "model.add(Dense(8, activation='relu'))\n",
    "model.add(Dense(2, activation='softmax'))\n",
    "\n",
    "model.compile(optimizer='adam',loss='binary_crossentropy', metrics=['accuracy'])"
   ]
  },
  {
   "cell_type": "markdown",
   "metadata": {},
   "source": [
    "### Fit the model to the data"
   ]
  },
  {
   "cell_type": "code",
   "execution_count": null,
   "metadata": {},
   "outputs": [
    {
     "name": "stdout",
     "output_type": "stream",
     "text": [
      "WARNING:tensorflow:From /homes/kpegion/.conda/envs/ensonn/lib/python3.6/site-packages/keras/backend/tensorflow_backend.py:986: The name tf.assign_add is deprecated. Please use tf.compat.v1.assign_add instead.\n",
      "\n",
      "Epoch 1/100\n",
      "600/600 [==============================] - 0s 725us/step - loss: 0.4035 - acc: 0.8217\n",
      "Epoch 2/100\n",
      "600/600 [==============================] - 0s 246us/step - loss: 0.1565 - acc: 0.9350\n",
      "Epoch 3/100\n",
      "600/600 [==============================] - 0s 253us/step - loss: 0.0940 - acc: 0.9550\n",
      "Epoch 4/100\n",
      "600/600 [==============================] - 0s 241us/step - loss: 0.0787 - acc: 0.9650\n",
      "Epoch 5/100\n",
      "600/600 [==============================] - 0s 236us/step - loss: 0.0400 - acc: 0.9850\n",
      "Epoch 6/100\n",
      "600/600 [==============================] - 0s 234us/step - loss: 0.0279 - acc: 0.9867\n",
      "Epoch 7/100\n",
      "600/600 [==============================] - 0s 239us/step - loss: 0.0229 - acc: 0.9883\n",
      "Epoch 8/100\n",
      "600/600 [==============================] - 0s 233us/step - loss: 0.0195 - acc: 0.9917\n",
      "Epoch 9/100\n",
      "600/600 [==============================] - 0s 235us/step - loss: 0.0184 - acc: 0.9933\n",
      "Epoch 10/100\n",
      "600/600 [==============================] - 0s 236us/step - loss: 0.0197 - acc: 0.9950\n",
      "Epoch 11/100\n",
      "600/600 [==============================] - 0s 256us/step - loss: 0.0106 - acc: 0.9950\n",
      "Epoch 12/100\n",
      "600/600 [==============================] - 0s 246us/step - loss: 0.0097 - acc: 0.9967\n",
      "Epoch 13/100\n",
      "600/600 [==============================] - 0s 246us/step - loss: 0.0084 - acc: 0.9967\n",
      "Epoch 14/100\n",
      "600/600 [==============================] - 0s 234us/step - loss: 0.0078 - acc: 0.9967\n",
      "Epoch 15/100\n",
      "600/600 [==============================] - 0s 232us/step - loss: 0.0075 - acc: 0.9967\n",
      "Epoch 16/100\n",
      "600/600 [==============================] - 0s 245us/step - loss: 0.0064 - acc: 0.9967\n",
      "Epoch 17/100\n",
      "600/600 [==============================] - 0s 238us/step - loss: 0.0055 - acc: 0.9967\n",
      "Epoch 18/100\n",
      "600/600 [==============================] - 0s 237us/step - loss: 0.0056 - acc: 0.9967\n",
      "Epoch 19/100\n",
      "600/600 [==============================] - 0s 234us/step - loss: 0.0056 - acc: 0.9967\n",
      "Epoch 20/100\n",
      "600/600 [==============================] - 0s 238us/step - loss: 0.0053 - acc: 0.9967\n",
      "Epoch 21/100\n",
      "600/600 [==============================] - 0s 235us/step - loss: 0.0050 - acc: 0.9967\n",
      "Epoch 22/100\n",
      "600/600 [==============================] - 0s 236us/step - loss: 0.0051 - acc: 0.9967\n",
      "Epoch 23/100\n",
      "600/600 [==============================] - 0s 242us/step - loss: 0.0053 - acc: 0.9967\n",
      "Epoch 24/100\n",
      "600/600 [==============================] - 0s 230us/step - loss: 0.0053 - acc: 0.9967\n",
      "Epoch 25/100\n",
      "600/600 [==============================] - 0s 241us/step - loss: 0.0051 - acc: 0.9967\n",
      "Epoch 26/100\n",
      "600/600 [==============================] - 0s 248us/step - loss: 0.0050 - acc: 0.9967\n",
      "Epoch 27/100\n",
      "600/600 [==============================] - 0s 259us/step - loss: 0.0049 - acc: 0.9967\n",
      "Epoch 28/100\n",
      "600/600 [==============================] - 0s 241us/step - loss: 0.0050 - acc: 0.9967\n",
      "Epoch 29/100\n",
      "600/600 [==============================] - 0s 237us/step - loss: 0.0061 - acc: 0.9967\n",
      "Epoch 30/100\n",
      "600/600 [==============================] - 0s 233us/step - loss: 0.0056 - acc: 0.9983\n",
      "Epoch 31/100\n",
      "600/600 [==============================] - 0s 367us/step - loss: 0.0038 - acc: 0.9983\n",
      "Epoch 32/100\n",
      "600/600 [==============================] - 0s 400us/step - loss: 0.0047 - acc: 0.9967\n",
      "Epoch 33/100\n",
      "600/600 [==============================] - 0s 248us/step - loss: 0.0039 - acc: 0.9983\n",
      "Epoch 34/100\n",
      "600/600 [==============================] - 0s 263us/step - loss: 0.0039 - acc: 0.9983\n",
      "Epoch 35/100\n",
      "600/600 [==============================] - 0s 336us/step - loss: 0.0037 - acc: 0.9983\n",
      "Epoch 36/100\n",
      "600/600 [==============================] - 0s 297us/step - loss: 0.0036 - acc: 0.9983\n",
      "Epoch 37/100\n",
      "600/600 [==============================] - 0s 266us/step - loss: 0.0036 - acc: 0.9983\n",
      "Epoch 38/100\n",
      "600/600 [==============================] - 0s 270us/step - loss: 0.0035 - acc: 0.9983\n",
      "Epoch 39/100\n",
      "600/600 [==============================] - 0s 284us/step - loss: 0.0035 - acc: 0.9983\n",
      "Epoch 40/100\n",
      "600/600 [==============================] - 0s 513us/step - loss: 0.0035 - acc: 0.9983\n",
      "Epoch 41/100\n",
      "600/600 [==============================] - 0s 499us/step - loss: 0.0035 - acc: 0.9983\n",
      "Epoch 42/100\n",
      "600/600 [==============================] - 0s 379us/step - loss: 0.0035 - acc: 0.9983\n",
      "Epoch 43/100\n",
      "600/600 [==============================] - 0s 321us/step - loss: 0.0035 - acc: 0.9983\n",
      "Epoch 44/100\n",
      "600/600 [==============================] - 0s 398us/step - loss: 0.0035 - acc: 0.9983\n",
      "Epoch 45/100\n",
      "600/600 [==============================] - 0s 316us/step - loss: 0.0035 - acc: 0.9983\n",
      "Epoch 46/100\n",
      "360/600 [=================>............] - ETA: 0s - loss: 0.0057 - acc: 0.9972"
     ]
    }
   ],
   "source": [
    "foo = np.asarray(X)\n",
    "XX = foo.reshape(600,inputdim)\n",
    "XX[np.isnan(XX)] = 0.0\n",
    "\n",
    "model.fit(XX, zz, epochs=100, batch_size=60)"
   ]
  },
  {
   "cell_type": "markdown",
   "metadata": {},
   "source": [
    "### Apply Innvestigate"
   ]
  },
  {
   "cell_type": "code",
   "execution_count": null,
   "metadata": {},
   "outputs": [],
   "source": [
    "import innvestigate\n",
    "import innvestigate.utils"
   ]
  },
  {
   "cell_type": "code",
   "execution_count": null,
   "metadata": {},
   "outputs": [],
   "source": [
    "# Strip softmax layer\n",
    "model = innvestigate.utils.model_wo_softmax(model)\n",
    "\n",
    "# Create analyzer\n",
    "analyzer = innvestigate.create_analyzer(\"deep_taylor\", model)\n",
    "\n",
    "# Apply analyzer w.r.t. maximum activated output-neuron\n",
    "a = analyzer.analyze(XX)"
   ]
  },
  {
   "cell_type": "code",
   "execution_count": null,
   "metadata": {},
   "outputs": [],
   "source": [
    "a.shape"
   ]
  },
  {
   "cell_type": "markdown",
   "metadata": {},
   "source": [
    "### Reshape to time,lat,lon and plot"
   ]
  },
  {
   "cell_type": "code",
   "execution_count": null,
   "metadata": {},
   "outputs": [],
   "source": [
    "a=a.reshape((600,180,360))\n",
    "plt.pcolormesh(a[0,:,:])\n",
    "plt.colorbar()"
   ]
  },
  {
   "cell_type": "code",
   "execution_count": null,
   "metadata": {},
   "outputs": [],
   "source": []
  }
 ],
 "metadata": {
  "kernelspec": {
   "display_name": "Python (ensonn)",
   "language": "python",
   "name": "ensonn"
  },
  "language_info": {
   "codemirror_mode": {
    "name": "ipython",
    "version": 3
   },
   "file_extension": ".py",
   "mimetype": "text/x-python",
   "name": "python",
   "nbconvert_exporter": "python",
   "pygments_lexer": "ipython3",
   "version": "3.6.12"
  }
 },
 "nbformat": 4,
 "nbformat_minor": 4
}
